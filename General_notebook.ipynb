{
  "nbformat": 4,
  "nbformat_minor": 0,
  "metadata": {
    "colab": {
      "provenance": []
    },
    "kernelspec": {
      "name": "python3",
      "display_name": "Python 3"
    },
    "language_info": {
      "name": "python"
    }
  },
  "cells": [
    {
      "cell_type": "markdown",
      "source": [
        "This notebook is a general use notebook for cleaning and exploring future data sets that I extract from kaggle. This is usefull for the first phase of an analysis"
      ],
      "metadata": {
        "id": "gh1tMW-S9fJA"
      }
    },
    {
      "cell_type": "markdown",
      "source": [
        "## Step 0: Imports and Reading data"
      ],
      "metadata": {
        "id": "eHuWipe-BfDG"
      }
    },
    {
      "cell_type": "code",
      "source": [
        "import pandas as pd\n",
        "import numpy as np\n",
        "import matplotlib.pylab as plt\n",
        "import seaborn as sns"
      ],
      "metadata": {
        "id": "v5X7fNT7uyWv"
      },
      "execution_count": null,
      "outputs": []
    },
    {
      "cell_type": "code",
      "source": [
        "#Connect to google drive\n",
        "\n",
        "#from google.colab import drive\n",
        "#drive.mount('/content/drive')"
      ],
      "metadata": {
        "id": "-KtUwXW5Gy_k"
      },
      "execution_count": null,
      "outputs": []
    },
    {
      "cell_type": "code",
      "source": [
        "#File ubication on the google drive\n",
        "\n",
        "#file = '(insert the root here)'\n",
        "#df = pd.read_csv(file)"
      ],
      "metadata": {
        "id": "cqDj8eazG9Qq"
      },
      "execution_count": null,
      "outputs": []
    },
    {
      "cell_type": "code",
      "source": [
        "#read a local dataset\n",
        "df=pd.read_csv('(insert the root here)')"
      ],
      "metadata": {
        "id": "9tcB3FFeHOBU"
      },
      "execution_count": null,
      "outputs": []
    },
    {
      "cell_type": "markdown",
      "source": [
        "## Step 1: Imports and Reading data\n",
        "\n",
        "*   Dataframe Shape\n",
        "*   Head and tail\n",
        "*   dtypes\n",
        "*   describe"
      ],
      "metadata": {
        "id": "4waNnho-DFn9"
      }
    },
    {
      "cell_type": "code",
      "source": [
        "#Size of the matriz. number of rows and columns\n",
        "df.shape"
      ],
      "metadata": {
        "id": "xfSgZWdzBrRt"
      },
      "execution_count": null,
      "outputs": []
    },
    {
      "cell_type": "code",
      "source": [
        "#Top 5 rows\n",
        "df.head()"
      ],
      "metadata": {
        "id": "CgLiseh2MER7"
      },
      "execution_count": null,
      "outputs": []
    },
    {
      "cell_type": "code",
      "source": [
        "#last 5 rows\n",
        "df.tail()"
      ],
      "metadata": {
        "id": "Nmtb9ipyMgAc"
      },
      "execution_count": null,
      "outputs": []
    },
    {
      "cell_type": "code",
      "source": [
        "#name of all columns of the dataset\n",
        "df.columns"
      ],
      "metadata": {
        "id": "n6ihFxHiMuJ8"
      },
      "execution_count": null,
      "outputs": []
    },
    {
      "cell_type": "code",
      "source": [
        "# type of data of each column\n",
        "#It is normal  that pandas see it as an object\n",
        "df.dtypes"
      ],
      "metadata": {
        "id": "VQRoR-ypMyv1"
      },
      "execution_count": null,
      "outputs": []
    },
    {
      "cell_type": "code",
      "source": [
        "#provide general statistic information\n",
        "df.describe()"
      ],
      "metadata": {
        "id": "uYUJs-O-Nd7h"
      },
      "execution_count": null,
      "outputs": []
    },
    {
      "cell_type": "markdown",
      "source": [
        "## Step 2: Data preparation\n",
        "\n",
        "\n",
        "*   Dropping irrelevant columns and rows\n",
        "*   Identifying duplicated columns\n",
        "*   Renaming columns\n",
        "*   Feature creation\n",
        "\n"
      ],
      "metadata": {
        "id": "otRZFhkjNufP"
      }
    },
    {
      "cell_type": "code",
      "source": [
        "#we now check what we want to remove from the colums that do not add value to the analysis\n",
        "df.head()"
      ],
      "metadata": {
        "id": "L2O-VGPDNfzt"
      },
      "execution_count": null,
      "outputs": []
    },
    {
      "cell_type": "code",
      "source": [
        "#we call al columns so we can copy and paste  on the cell below\n",
        "df.columns"
      ],
      "metadata": {
        "id": "cpn8xtG5PrQ4"
      },
      "execution_count": null,
      "outputs": []
    },
    {
      "cell_type": "code",
      "source": [
        "\n",
        "#Eliminate several columns in one cell\n",
        "df[['name','size',\n",
        "    #'status',\n",
        "    'location',\n",
        "    #'latitude','longitude'\n",
        "    ]]"
      ],
      "metadata": {
        "id": "bY699DcVP1oA"
      },
      "execution_count": null,
      "outputs": []
    },
    {
      "cell_type": "code",
      "source": [
        "#There are cases were it is easier to eliminate a few columns. you can use the drop command\n",
        "df.drop([''],axis=1,inplace=True)\n"
      ],
      "metadata": {
        "id": "B4dutbIudvVN"
      },
      "execution_count": null,
      "outputs": []
    },
    {
      "cell_type": "code",
      "source": [
        "#A review again of the object\n",
        "#this cell is useful to determine which columns are you going to erase\n",
        "df.dtypes"
      ],
      "metadata": {
        "id": "LX7CaOyQeDB1"
      },
      "execution_count": null,
      "outputs": []
    },
    {
      "cell_type": "code",
      "source": [
        "#In case you need to change an object into date\n",
        "df['date'] = pd.to_datetime(df['date'])"
      ],
      "metadata": {
        "id": "5LmoSK6jeLR1"
      },
      "execution_count": null,
      "outputs": []
    },
    {
      "cell_type": "code",
      "source": [
        "#Rename columns. In case of need it.\n",
        "df.rename(columns={'old_name':'new_name',\n",
        "                   'old_name1':'new_name1',\n",
        "                   },inplace=True)\n",
        "\n"
      ],
      "metadata": {
        "id": "Ty2K8a4MqxV2"
      },
      "execution_count": null,
      "outputs": []
    },
    {
      "cell_type": "code",
      "source": [
        "#Lets review empty spaces on the dataset\n",
        "df.isna()\n",
        "\n",
        "#THis will show the ttal number by colum of empty dat\n",
        "df.isna().sum"
      ],
      "metadata": {
        "id": "itdx2s7Wt-JL"
      },
      "execution_count": null,
      "outputs": []
    },
    {
      "cell_type": "code",
      "source": [
        "#Duplicated data\n",
        "#in some cases you want specific information. Netflix catalogue or rollercoaster in US is specific information that requieres only one row.\n",
        "# Due there is only one titanic movie.\n",
        "#but this does not work when you are working with biology, you might have similar results of bacteria, agriculture, etc.\n",
        "\n",
        "#This shows if a row is duplicated or not.\n",
        "df.duplicated()"
      ],
      "metadata": {
        "id": "2G9CmgvCye9_"
      },
      "execution_count": null,
      "outputs": []
    },
    {
      "cell_type": "code",
      "source": [
        "#The following shows the specific duplicates\n",
        "df.loc[df.duplicated()]"
      ],
      "metadata": {
        "id": "S9LBBkAryoVr"
      },
      "execution_count": null,
      "outputs": []
    },
    {
      "cell_type": "code",
      "source": [
        "#check for specific duplicates\n",
        "df.loc[df.duplicated(subset=['name'])]"
      ],
      "metadata": {
        "id": "R2xNtWSWcpUE"
      },
      "execution_count": null,
      "outputs": []
    },
    {
      "cell_type": "code",
      "source": [
        "#in case you need a specific value to double check\n",
        "df.query('')"
      ],
      "metadata": {
        "id": "AEEw5mU_6Mrc"
      },
      "execution_count": null,
      "outputs": []
    },
    {
      "cell_type": "markdown",
      "source": [
        "## Step 3: Feature Understanding\n",
        "\n",
        "\n",
        "*   Plotting feature distribution\n",
        "    *   Histogram\n",
        "    *   KDE\n",
        "    *   Boxplot"
      ],
      "metadata": {
        "id": "6udm5S8efKsA"
      }
    },
    {
      "cell_type": "code",
      "source": [
        "#estimation to determine what is going to be the x axis and the y axis\n",
        "df"
      ],
      "metadata": {
        "id": "PVmPW1Xyfgws"
      },
      "execution_count": null,
      "outputs": []
    },
    {
      "cell_type": "code",
      "source": [
        "#The following is to extract data from each column and make a bar graph\n",
        "df[''].value_counts().plot(kind='bar', title='')"
      ],
      "metadata": {
        "id": "6jwt4Wz1UeuN"
      },
      "execution_count": null,
      "outputs": []
    },
    {
      "cell_type": "code",
      "source": [
        "#histogram\n",
        "df[''].plot(kind='hist', bins=20, title='')"
      ],
      "metadata": {
        "id": "vhWZcxiMUeih"
      },
      "execution_count": null,
      "outputs": []
    },
    {
      "cell_type": "markdown",
      "source": [
        "## Step 4: Feature Relationships\n",
        "\n",
        "*   Scatterplot\n",
        "*   Heatmap correlation\n",
        "*   Pairplot\n",
        "*   Groupby comparisons\n",
        "\n"
      ],
      "metadata": {
        "id": "iiroS_E1WUn7"
      }
    },
    {
      "cell_type": "code",
      "source": [
        "#using matplotlib library for a scatter graph\n",
        "df.plot(kind='scatter',\n",
        "        x='',\n",
        "        y='',\n",
        "        title='')\n",
        "plt.show()"
      ],
      "metadata": {
        "id": "JpRUcMGUUeZt"
      },
      "execution_count": null,
      "outputs": []
    },
    {
      "cell_type": "code",
      "source": [
        "# using seaborn library for a scatter graph\n",
        "sns.scatterplot(data=df,\n",
        "                x='',\n",
        "                y='')\n",
        "plt.show()"
      ],
      "metadata": {
        "id": "MkQEKqdYeJkE"
      },
      "execution_count": null,
      "outputs": []
    },
    {
      "cell_type": "code",
      "source": [
        "#pairplot\n",
        "sns.pairplot(df)\n",
        "plt.show()\n"
      ],
      "metadata": {
        "id": "ac86cnfzzlpv"
      },
      "execution_count": null,
      "outputs": []
    },
    {
      "cell_type": "code",
      "source": [
        "#In this section we are showing the correlation between the columns\n",
        "df.corr()"
      ],
      "metadata": {
        "id": "3pXXO_zV0C7p"
      },
      "execution_count": null,
      "outputs": []
    },
    {
      "cell_type": "code",
      "source": [
        "# the heatmap to see correlation among columns\n",
        "sns.heatmap(df.corr(),annot=True)\n"
      ],
      "metadata": {
        "id": "1M-bVnCU0KiH"
      },
      "execution_count": null,
      "outputs": []
    },
    {
      "cell_type": "markdown",
      "source": [
        "##Step 5: Questions about the data\n"
      ],
      "metadata": {
        "id": "JsZ1U0Hc0mom"
      }
    },
    {
      "cell_type": "code",
      "source": [],
      "metadata": {
        "id": "_GdY5iFj0eCZ"
      },
      "execution_count": null,
      "outputs": []
    }
  ]
}